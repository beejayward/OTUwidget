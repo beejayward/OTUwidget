{
 "cells": [
  {
   "cell_type": "markdown",
   "metadata": {},
   "source": [
    "# Dakar and Dar Baseline Study - OTU vs CST Scatterplot Widget!"
   ]
  },
  {
   "cell_type": "code",
   "execution_count": 71,
   "metadata": {},
   "outputs": [],
   "source": [
    "%matplotlib inline\n",
    "import pandas as pd\n",
    "import matplotlib.pyplot as plt\n",
    "from ipywidgets import interact\n",
    "import ipywidgets as widgets\n",
    "\n",
    "plt.rcParams.update({'font.size': 14})\n",
    "\n",
    "data = pd.read_csv('Stats_exploration_no outlier.csv', delimiter = ',')\n",
    "#data = pd.read_csv('Stats_exploration_TCCno outlier.csv', delimiter = ',')\n",
    "\n",
    "## This defines the labels for the y-axis in the plot widget below:\n",
    "labels = {\n",
    "    \"CST_TSS\": \"CST (sL/g TSS)\", \n",
    "    \"SVI\": \"SVI (mL/g)\" , \n",
    "    \"TS_dew\": \"Dewatered cake solids (%ds)\"\n",
    "}\n",
    "## create a dictionary with the labels and items swapped (for the dropdown widget)\n",
    "inv_labels = {b: a for a, b in labels.items()}\n",
    "\n",
    "## This is the function the plots y vs x in the plot widget below:\n",
    "def quick_plot(dep, indep, pt_toggle):\n",
    "    \n",
    "    ## This differentiates between public toilets and other sources\n",
    "    if pt_toggle:\n",
    "        for location in ['public toilet', 'household', 'mosque', 'office', 'restaurant', 'school']:\n",
    "            plt.scatter(x=indep, y=dep, data=data[data['Source'] == location], marker='o', label=location)\n",
    "    else:\n",
    "        plt.scatter(x=indep, y=dep, data=data[data['Source'] == 'public toilet'], marker='o', label = 'public toilet')\n",
    "        plt.scatter(x=indep, y=dep, data=data[data['Source'] != 'public toilet'], marker='*', label = 'others', color='black')\n",
    "    \n",
    "    ## if you don't want to distinguish between public toilets and other sources\n",
    "    #plt.scatter(x=indep, y=dep, data=data, marker='o')\n",
    "    \n",
    "    plt.ylabel(labels[dep],fontsize=14)\n",
    "    plt.xlabel(indep, fontsize=14)\n",
    "    \n",
    "    ## to change the legend location:\n",
    "    plt.legend(loc = (1.05,0))"
   ]
  },
  {
   "cell_type": "code",
   "execution_count": 83,
   "metadata": {
    "scrolled": false
   },
   "outputs": [
    {
     "data": {
      "application/vnd.jupyter.widget-view+json": {
       "model_id": "53b449693107433a8e310f2d658b1e71",
       "version_major": 2,
       "version_minor": 0
      },
      "text/plain": [
       "HBox(children=(VBox(children=(Dropdown(description='y-axis', options={'Dewatered cake solids (%ds)': 'TS_dew',…"
      ]
     },
     "metadata": {},
     "output_type": "display_data"
    }
   ],
   "source": [
    "ywidget = widgets.Dropdown(options=inv_labels, description='y-axis')\n",
    "xwidget = widgets.Select(options=data.columns[2:-3], rows=15, description='x-axis')\n",
    "toggle = widgets.Checkbox(\n",
    "    value=False,\n",
    "    description='Breakout All Locations'\n",
    ")\n",
    "w = widgets.interactive(quick_plot, dep=ywidget, indep=xwidget, pt_toggle=toggle)\n",
    "display(widgets.HBox((widgets.VBox((w.children[0],w.children[2],w.children[3])),w.children[1])))\n",
    "w.update()"
   ]
  }
 ],
 "metadata": {
  "kernelspec": {
   "display_name": "Python 3",
   "language": "python",
   "name": "python3"
  },
  "language_info": {
   "codemirror_mode": {
    "name": "ipython",
    "version": 3
   },
   "file_extension": ".py",
   "mimetype": "text/x-python",
   "name": "python",
   "nbconvert_exporter": "python",
   "pygments_lexer": "ipython3",
   "version": "3.5.4"
  }
 },
 "nbformat": 4,
 "nbformat_minor": 1
}
